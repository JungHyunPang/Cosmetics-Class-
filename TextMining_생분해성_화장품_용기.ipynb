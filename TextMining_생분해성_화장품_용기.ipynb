{
 "cells": [
  {
   "cell_type": "markdown",
   "metadata": {},
   "source": [
    "## 1.기본 패키지 설정"
   ]
  },
  {
   "cell_type": "code",
   "execution_count": 1,
   "metadata": {},
   "outputs": [],
   "source": [
    "#pip install konlpy\n",
    "#pip install WordCloud\n",
    "import numpy as np # numpy package\n",
    "import pandas as pd # pandas package\n",
    "import matplotlib.pyplot as plt\n",
    "from konlpy.tag import Twitter  # pip install konlpy\n",
    "from collections import Counter\n",
    "from wordcloud import WordCloud\n",
    "from bs4 import BeautifulSoup\n",
    "import requests"
   ]
  },
  {
   "cell_type": "markdown",
   "metadata": {},
   "source": [
    "## 2.Crawling"
   ]
  },
  {
   "cell_type": "code",
   "execution_count": 17,
   "metadata": {},
   "outputs": [],
   "source": [
    "search = \"화장품 용기\" # 검색어\n",
    "title_list = []"
   ]
  },
  {
   "cell_type": "code",
   "execution_count": 18,
   "metadata": {},
   "outputs": [],
   "source": [
    "url = f\"https://search.naver.com/search.naver?sm=tab_hty.top&where=news&query={search}&start=1\"\n",
    "req = requests.get(url)\n",
    "soup = BeautifulSoup(req.text, 'html.parser')\n",
    "news_list = soup.select('ul.list_news > li > div > div > a')\n",
    "#type(news_list)\n",
    "# for news in news_list:\n",
    "#     print(f\"{i+1} : {news}\")"
   ]
  },
  {
   "cell_type": "code",
   "execution_count": 19,
   "metadata": {},
   "outputs": [],
   "source": [
    "def crawler(start, end):\n",
    "    while True:\n",
    "        if start > end:\n",
    "            break\n",
    "        url = f\"https://search.naver.com/search.naver?sm=tab_hty.top&where=news&query={search}&start={start}\"\n",
    "        req = requests.get(url)\n",
    "        soup = BeautifulSoup(req.text, 'html.parser')\n",
    "\n",
    "        news_list = soup.select('ul.list_news > li > div > div > a')\n",
    "        for index, news in enumerate(news_list):\n",
    "            title_list.append(news['title'])\n",
    "        start += 10"
   ]
  },
  {
   "cell_type": "code",
   "execution_count": 20,
   "metadata": {},
   "outputs": [],
   "source": [
    "crawler(1, 300)"
   ]
  },
  {
   "cell_type": "code",
   "execution_count": 21,
   "metadata": {},
   "outputs": [
    {
     "data": {
      "text/plain": [
       "300"
      ]
     },
     "execution_count": 21,
     "metadata": {},
     "output_type": "execute_result"
    }
   ],
   "source": [
    "len(title_list)"
   ]
  },
  {
   "cell_type": "code",
   "execution_count": 22,
   "metadata": {},
   "outputs": [
    {
     "data": {
      "text/plain": [
       "[\"미백 화장품 효과 없다? 여태껏 효과 못 봤던 '이유'\",\n",
       " '\"자사 제품 용기에만 리필\"…화장품 리필매장 확대 실효성 의문',\n",
       " \"규제 풀린 '화장품 리필매장'…친환경 소비 앞장\",\n",
       " \"'예쁜 쓰레기 그만', 재활용 문제 발등에 불 떨어진 화장품업계\",\n",
       " \"규제 완화 속 화장품 리필 시대 '성큼'...실효성 물음표에 기업의 대답은?\",\n",
       " '찾아보기 어렵던 ‘화장품 리필 매장’…앞으로 규제 풀린다',\n",
       " \"뷰티업계, 화장품 리필 시대 '성큼'..규제 완화로 '친환경' 실천 가속\",\n",
       " \"[위드 코로나]③'답답한' 화장품업계, 돌파구는?\",\n",
       " '스킨이데아 中서 2분 만에 10억 매출…‘손담비 화장품’',\n",
       " \"'화장품 리필매장' 샌드박스 승인…전기차 충전 기계식 주차장도\",\n",
       " '“펌텍코리아, 화장품 수요와 직결하는 화장품 용기 산업의 양호한 성장세”',\n",
       " '수소 실증특례로 탄소중립 혁신…화장품 리필매장도 손쉽게(종합)',\n",
       " '\"예쁜 쓰레기는 옛말\"…친환경에 힘주는 화장품 브랜드',\n",
       " '화장품도 무라벨 시대 열렸다…친환경 고민 지속',\n",
       " '경인 화장품 용기 제조업체 100여곳 줄도산 위기',\n",
       " '화장품컨설팅 (주)온유 홍울 대표, 공식 유튜브 채널에 사업스토리 공개',\n",
       " \"화장품 용기가 퇴비로…'시타', 폐기물 제로 선언\",\n",
       " \"[최기자의 화장품털기] '간절기用' 남성화장품, 고영양 케어로 틈새 공략\",\n",
       " '화장품 용기 뜯자 알약 ‘우수수’… 인천세관 마약탐지 현장을 가다 [S스토리]',\n",
       " '코스메카코리아, 에코패키지솔루션과 100% 분해 가능한 화장품 용기 제작',\n",
       " '[vitamin] 비타민 화장품으로 피부 심폐 소생',\n",
       " '\"친환경이 맞긴 한데\"…고민 깊은 화장품 업계',\n",
       " '에코패키지솔루션-코스메카코리아, 친환경 화장품 용기 개발 MOU',\n",
       " '조화로운 사회 구현... 화장품 업계, 거세지는 환경보호 바람',\n",
       " \"설거지도 비누로? 플라스틱 용기 줄이는 '뽀드득 귀환'\",\n",
       " '“화장품도 친환경”… MZ세대 겨냥 ‘클린뷰티’ 오프라인 승부',\n",
       " \"제주도, 추석 연휴 입도객 대상 '제주인증화장품 이벤트' 개최\",\n",
       " '바이어 인터뷰를 통해 살펴보는 태국 화장품 용기 시장 트렌드',\n",
       " '삼다수의 선순환… 생수병을 화장품 용기로',\n",
       " \"글로벌 화장품전시회 '인터참코리아'에서 'K-뷰티' 미래를 봤다\",\n",
       " \"먹는 건가요, 바르는 건가요? 영어 표기 일색 '국산' 화장품 [똑똑,똑소리]\",\n",
       " \"홍삼 화장품\\xa0진화 '어디까지?'\",\n",
       " '화장품 제조업체 표기 삭제 여부…브랜드사 “없애자” vs 제조사 “반발”',\n",
       " \"대구한의대 '화장품공학부', 2022학년도 신입생 수시 모집\",\n",
       " '박해진, 기초화장품 모델 활약',\n",
       " '뷰티업계가 ‘무라벨’ 화장품을 생산하지 못하는 이유',\n",
       " '이제는 화장품 리필 시대, 어디서 할 수 있을까?',\n",
       " \"[스마트팩토리 in 인천] (10) ㈜지앤브이코스메틱…'화장품·용기' 생산 공정 디지털화\",\n",
       " \"테라사이클, 키엘과 협업 '화장품 공병 재활용 스툴 제작'\",\n",
       " '짝퉁 앞세워 한국 화장품 밀어내는 중국… 한국 화장품 베끼기에 정신없다',\n",
       " '화장품 환경까지 생각한다... 리필 화장품 시대 성큼',\n",
       " '[REE-PORT:친환경보고서] 화장품 분리배출 어떻게 해야 하지?',\n",
       " '온그리디언츠, 무라벨 화장품 시장 조성에 기여',\n",
       " '\"화장품 성분정보, 점자·음성·수어로\" 법안 발의됐다',\n",
       " '화장품 물고물리는 베끼기 전쟁…잇따른 소송 왜?',\n",
       " '아프니까 환절기다! 딱 지금 필요한 화장품',\n",
       " '토니모리,\\xa0화장품 업계 최초 무라벨 비건 토너 출시',\n",
       " '스페이스선, 지역 농·특산물을 활용한 비건 화장품 출시',\n",
       " '남원 코스메틱비즈센터 입주 본격화, 16개 화장품 기업 업무협약 체결',\n",
       " '킨더퍼페츠, 아기 화장품 최초 플라스틱 71% 절감 제품 선봬',\n",
       " \"'디자인보다 친환경 성분' 뷰티업계, ESG 경영 가속화\",\n",
       " '화장품업계, 건강한 미래 환경을 위한 기부 릴레이 동참',\n",
       " \"'용기를 내면 지구가 바뀐다!'…코로나가 만든 '제로 웨이스트' 라이프 [TF포토기획]\",\n",
       " '플라스틱 무한 재활용 꿈꾸는 ‘뷰티 사장님’',\n",
       " '‘민폐용기 오명’ 풍선이 날렸다…친환경 변신한 화장품 용기 [플라스틱 어스]',\n",
       " 'LG화학, “플라스틱 화장품 용기 100% 재활용 플랫폼 구축\"',\n",
       " \"40조 화장품 용기 잡는다…SK케미칼, '이유있는 자신감'\",\n",
       " \"어젠 페트병, 내일 옷·화장품 용기…플라스틱 재활용 '사활'\",\n",
       " '화장품 뜨니 용기업체도 최대실적… 中 소비둔화는 걱정',\n",
       " '유통업계, ‘힙환경’ 소비자 위한 친환경 패키지 도입',\n",
       " '[기업탐방] 이너보틀, 마지막 한 방울까지 짜내는 화장품 용기…“친환경 순환자원 구축”',\n",
       " '비알티씨, 기능성 화장품 신제품 ‘타임 에잇 리프토닝 콜라겐 크림’ 출시.. 11일 GS 홈쇼핑 단독 론칭 방송',\n",
       " '[밸류체인 변화, 혁신기업이 뛴다] 남김없이 다 쓴 화장품용기 재활용… 친환경 순환생태계 `성과`',\n",
       " \"SK케미칼, 화장품 용기 시장에 친환경 원료 공급 '드라이브'\",\n",
       " \"'예쁜 쓰레기' 배신은 그만…화장품 용기에 눈돌린 석화업체\",\n",
       " '[어제의 특징주]\"야놀자 M&A戰 참전 소식에\" 인터파크 \\'급등\\'...\"친환경 화장품 용기 상업화 기대감\" SK케미칼 \\'강세\\' 外',\n",
       " \"'친환경 화장품 용기' 소재 생산하는 SK케미칼, 주가 6%↑\",\n",
       " '화장품 유통기한을 내부 용기에만 표시하라고?',\n",
       " '‘식품ㆍ화장품, 용기ㆍ포장에 점자 등 표시 의무화’ 추진',\n",
       " '미국 ‘지속가능한 뷰티 브랜드로의 진화’ 웨비나 참관기',\n",
       " '브리다, 친환경 화장품 용기 사용',\n",
       " '화장품 용기 종이로 바꾸고, 우유 제품 일회용 빨대 제거',\n",
       " '\"페트병을 화장품 용기 소재로\"... SK케미칼-제주삼다수, 재활용 사업 맞손',\n",
       " \"아로마티카, '용기내고 리필해' 캠페인 7주 만에 11,200여 개 공병 수거\",\n",
       " \"샴푸만으로 새치 탈출?...샴푸시장 뒤흔드는 '모다모다' [김선엽 기자의 뷰티 인사이드]\",\n",
       " '코스메카코리아, 화장품 용기 특허권 취득',\n",
       " \"아로마티카, '용기내고 리필해' 캠페인 7주 만에 1만여 공병 수거\",\n",
       " 'SK 케미칼 버려진 페트병을 화장품 용기로',\n",
       " '100% 재활용 화장품 용기, 일단 만들어내긴 했는데...',\n",
       " '[단독] LG화학, 친환경 화장품 용기 개발사 지분 10% 취득했다',\n",
       " '화장품업계 제품성분부터 용기까지 친환경 전환 속속',\n",
       " \"제지-화장품, 친환경 'MOU' 속도…포장용기 바뀐다\",\n",
       " '\"화장품 용기 내고, 알맹이 리필하세요\" 아로마티카 이벤트',\n",
       " '화장품 리필 매장 활성화, 지원 샴푸·린스 등 소비자가 직접 용기에 받을 수 있다',\n",
       " '재활용 안 되는 화장품 용기…\"리필해서 쓰세요\"',\n",
       " '화장품 리필매장 소비자 직접소분 허용… 표준용기 보급',\n",
       " '화장품 회복세에 용기 제조 업계도 신바람',\n",
       " '로레알, 카비오스와 효소 재활용 플라스틱으로 만든 화장품 용기 최초 구현',\n",
       " \"환경부, 분리수거 편하게 샴푸·화장품 용기에 '도포·첩합표시'\",\n",
       " '[특징주] 펌텍코리아 (251970) 화장품 업황 반등…저평가 용기 업체 매력적',\n",
       " '\"샴푸 덜어서 살게요\"… 돈·환경 다 잡겠다는 화장품 소분',\n",
       " '[단독] “화장품 성분 표시 따라했다”...LG생활건강, 토니모리 상대로 소송',\n",
       " \"'유리' NO, 이제는 '플라스틱'…변화된 앰플용기 뜬다\",\n",
       " '화장품 용기 재활용 등급 표시 면제? 이들이 바꿨다',\n",
       " '1위 화장품 용기 제조업체 “미래 경쟁력, 리사이클링에 달렸다”',\n",
       " '화장품 유리용기 전용 아크 증착기 제조업체 에이앨티, 코팅 센터 개설',\n",
       " \"코스메카코리아, 사빅코리아와 친환경 화장품 포장재 개발 '맞손'\",\n",
       " '주사기 용기에 담겼다?…기능성 화장품 오인케 하는 꼼수',\n",
       " '코즈볼그룹, 바이오로지큐 및 알앤에프케미칼과 친환경 화장품용기 함께 개발',\n",
       " '코즈볼그룹-바이오로지큐-알앤에프케미칼, 친환경 화장품용기 개발 업무협약',\n",
       " 'SK케미칼, 우성플라테크와 친환경 화장품 용기 상업화 나서',\n",
       " '화장품 유통기한을 내부 용기에만 표시하라고?',\n",
       " '‘식품ㆍ화장품, 용기ㆍ포장에 점자 등 표시 의무화’ 추진',\n",
       " '미국 ‘지속가능한 뷰티 브랜드로의 진화’ 웨비나 참관기',\n",
       " '브리다, 친환경 화장품 용기 사용',\n",
       " '화장품 용기 종이로 바꾸고, 우유 제품 일회용 빨대 제거',\n",
       " '\"페트병을 화장품 용기 소재로\"... SK케미칼-제주삼다수, 재활용 사업 맞손',\n",
       " \"아로마티카, '용기내고 리필해' 캠페인 7주 만에 11,200여 개 공병 수거\",\n",
       " \"샴푸만으로 새치 탈출?...샴푸시장 뒤흔드는 '모다모다' [김선엽 기자의 뷰티 인사이드]\",\n",
       " '코스메카코리아, 화장품 용기 특허권 취득',\n",
       " 'SK케미칼 친환경 화장품 용기 생산...폐플라스틱 재활용',\n",
       " '화장품 유통기한을 내부 용기에만 표시하라고?',\n",
       " '‘식품ㆍ화장품, 용기ㆍ포장에 점자 등 표시 의무화’ 추진',\n",
       " '미국 ‘지속가능한 뷰티 브랜드로의 진화’ 웨비나 참관기',\n",
       " '브리다, 친환경 화장품 용기 사용',\n",
       " '화장품 용기 종이로 바꾸고, 우유 제품 일회용 빨대 제거',\n",
       " '\"페트병을 화장품 용기 소재로\"... SK케미칼-제주삼다수, 재활용 사업 맞손',\n",
       " \"아로마티카, '용기내고 리필해' 캠페인 7주 만에 11,200여 개 공병 수거\",\n",
       " \"샴푸만으로 새치 탈출?...샴푸시장 뒤흔드는 '모다모다' [김선엽 기자의 뷰티 인사이드]\",\n",
       " '코스메카코리아, 화장품 용기 특허권 취득',\n",
       " '화장품 유통기한을 내부 용기에만 표시하라고?',\n",
       " '‘식품ㆍ화장품, 용기ㆍ포장에 점자 등 표시 의무화’ 추진',\n",
       " '미국 ‘지속가능한 뷰티 브랜드로의 진화’ 웨비나 참관기',\n",
       " '브리다, 친환경 화장품 용기 사용',\n",
       " \"SK케미칼, 화장품 용기 업체에 '화학적 재활용' 소재 공급\",\n",
       " '화장품 용기 종이로 바꾸고, 우유 제품 일회용 빨대 제거',\n",
       " '\"페트병을 화장품 용기 소재로\"... SK케미칼-제주삼다수, 재활용 사업 맞손',\n",
       " \"아로마티카, '용기내고 리필해' 캠페인 7주 만에 11,200여 개 공병 수거\",\n",
       " \"샴푸만으로 새치 탈출?...샴푸시장 뒤흔드는 '모다모다' [김선엽 기자의 뷰티 인사이드]\",\n",
       " '코스메카코리아, 화장품 용기 특허권 취득',\n",
       " \"아로마티카, '용기내고 리필해' 캠페인 7주 만에 1만여 공병 수거\",\n",
       " 'SK 케미칼 버려진 페트병을 화장품 용기로',\n",
       " '100% 재활용 화장품 용기, 일단 만들어내긴 했는데...',\n",
       " '\"버려진 페트병을 화장품 용기로\" SK케미칼-삼다수 재활용 협력',\n",
       " '[단독] LG화학, 친환경 화장품 용기 개발사 지분 10% 취득했다',\n",
       " '화장품업계 제품성분부터 용기까지 친환경 전환 속속',\n",
       " \"제지-화장품, 친환경 'MOU' 속도…포장용기 바뀐다\",\n",
       " \"박해진, 화장품 브랜드 '코즈볼' 기초라인 계약 체결\",\n",
       " '코스메카코리아, 화장품 용기 특허 취득',\n",
       " '\"화장품 용기 내고, 알맹이 리필하세요\" 아로마티카 이벤트',\n",
       " '\"화장품 용기 내고, 알맹이 리필하세요\" 아로마티카 이벤트',\n",
       " '화장품 리필 매장 활성화, 지원 샴푸·린스 등 소비자가 직접 용기에 받을 수 있다',\n",
       " '재활용 안 되는 화장품 용기…\"리필해서 쓰세요\"',\n",
       " '화장품 리필매장 소비자 직접소분 허용… 표준용기 보급',\n",
       " '화장품 회복세에 용기 제조 업계도 신바람',\n",
       " '로레알, 카비오스와 효소 재활용 플라스틱으로 만든 화장품 용기 최초 구현',\n",
       " \"환경부, 분리수거 편하게 샴푸·화장품 용기에 '도포·첩합표시'\",\n",
       " '[특징주] 펌텍코리아 (251970) 화장품 업황 반등…저평가 용기 업체 매력적',\n",
       " '\"샴푸 덜어서 살게요\"… 돈·환경 다 잡겠다는 화장품 소분',\n",
       " '[단독] “화장품 성분 표시 따라했다”...LG생활건강, 토니모리 상대로 소송',\n",
       " '로레알, 카비오스와 효소 재활용 플라스틱으로 만든 화장품 용기 최초 구현',\n",
       " \"환경부, 분리수거 편하게 샴푸·화장품 용기에 '도포·첩합표시'\",\n",
       " '[특징주] 펌텍코리아 (251970) 화장품 업황 반등…저평가 용기 업체 매력적',\n",
       " '\"샴푸 덜어서 살게요\"… 돈·환경 다 잡겠다는 화장품 소분',\n",
       " '[단독] “화장품 성분 표시 따라했다”...LG생활건강, 토니모리 상대로 소송',\n",
       " \"'유리' NO, 이제는 '플라스틱'…변화된 앰플용기 뜬다\",\n",
       " '화장품 용기 재활용 등급 표시 면제? 이들이 바꿨다',\n",
       " '1위 화장품 용기 제조업체 “미래 경쟁력, 리사이클링에 달렸다”',\n",
       " '화장품 유리용기 전용 아크 증착기 제조업체 에이앨티, 코팅 센터 개설',\n",
       " \"코스메카코리아, 사빅코리아와 친환경 화장품 포장재 개발 '맞손'\",\n",
       " '1위 화장품 용기 제조업체 “미래 경쟁력, 리사이클링에 달렸다”',\n",
       " '로레알,\\xa0효소 재활용 플라스틱\\xa0화장품 용기 최초 구현',\n",
       " '화장품 유리용기 전용 아크 증착기 제조업체 에이앨티, 코팅 센터 개설',\n",
       " \"코스메카코리아, 사빅코리아와 친환경 화장품 포장재 개발 '맞손'\",\n",
       " '주사기 용기에 담겼다?…기능성 화장품 오인케 하는 꼼수',\n",
       " '코즈볼그룹, 바이오로지큐 및 알앤에프케미칼과 친환경 화장품용기 함께 개발',\n",
       " '코즈볼그룹-바이오로지큐-알앤에프케미칼, 친환경 화장품용기 개발 업무협약',\n",
       " '코즈볼그룹-바이오로지큐-알앤에프케미칼, 친환경 화장품용기 개발 업무협약',\n",
       " '\"\\'예쁜 쓰레기\\' 화장품 용기, 리필 활성화·재활용률 높여야\"(종합)',\n",
       " '[밸류체인 변화, 혁신기업이 뛴다] \"친환경 용기 적용범위 확대 `지속가능 경영` 대명사될 것\"',\n",
       " '코즈볼그룹, 바이오로지큐 및 알앤에프케미칼과 친환경 화장품용기 함께 개발',\n",
       " '코즈볼그룹-바이오로지큐-알앤에프케미칼, 친환경 화장품용기 개발 업무협약',\n",
       " '코즈볼그룹-바이오로지큐-알앤에프케미칼, 친환경 화장품용기 개발 업무협약',\n",
       " '로레알, 효소 기술 이용한 화장품 용기 구현 성공',\n",
       " '\"\\'예쁜 쓰레기\\' 화장품 용기, 리필 활성화·재활용률 높여야\"(종합)',\n",
       " '[밸류체인 변화, 혁신기업이 뛴다] \"친환경 용기 적용범위 확대 `지속가능 경영` 대명사될 것\"',\n",
       " \"'예쁜 쓰레기' 화장품 용기, 국회서도 개선방안 찾는다\",\n",
       " \"프리미엄 화장품 블루화, '듀얼 반반크림' 출시\",\n",
       " '일회용 소비 급증…버리는 용기도 관리하는 화장품업계',\n",
       " '\"화장품 용기 약 70% 재활용 불가\", 환경 시민 연대체 \\'개선 시급\\' 강조',\n",
       " \"프리미엄 화장품 블루화, '듀얼 반반크림' 출시\",\n",
       " '일회용 소비 급증…버리는 용기도 관리하는 화장품업계',\n",
       " '\"화장품 용기 약 70% 재활용 불가\", 환경 시민 연대체 \\'개선 시급\\' 강조',\n",
       " '재활용 가능 화장품용기 18.7%뿐',\n",
       " '[단독] 토니모리, ‘無라벨’ 화장품 출시… 화장품 업계 최초',\n",
       " \"'예쁜 쓰레기'의 역공···화장품 용기 82% 재활용 불가\",\n",
       " '환경단체 \"국내 화장품 용기 중 18.7%만 재활용 가능\"',\n",
       " \"화장품법 개정 놓고 '브랜드사·제조원' 기싸움 팽팽…'제조사 표기 삭제' 진실은\",\n",
       " '안전한 화장품과 재활용 용기로 환경보호 앞장',\n",
       " '폐플라스틱의 변신…화장품 병 · 신용카드로 재탄생',\n",
       " '환경단체 \"화장품용기 6617개 조사…82% 재활용 어려워\"…개선 촉구',\n",
       " '\"화장품 용기 70% 이상 재활용 불가\"...환경단체 조사 결과 발표',\n",
       " \"화장품법 개정 놓고 '브랜드사·제조원' 기싸움 팽팽…'제조사 표기 삭제' 진실은\",\n",
       " '안전한 화장품과 재활용 용기로 환경보호 앞장',\n",
       " '폐플라스틱의 변신…화장품 병 · 신용카드로 재탄생',\n",
       " \"[소비자민원평가-화장품] 피부 트러블·용기 불량·이물 등 '품질' 민원 최다...LG생건·아모레 규모 대비 선방\",\n",
       " '[특징주] 연우, 화장품 수요 견고·체질 개선 효과 확인에 상승세',\n",
       " '배 껍질 추출 원료로 화장품 개발 시작한 한국콜마',\n",
       " '폐플라스틱의 변신…화장품병 · 신용카드로 재탄생',\n",
       " \"[업계만화경] 화장품업계는 '예쁜 쓰레기' 오명벗기 경쟁중\",\n",
       " '배 껍질 추출 원료로 화장품 개발 시작한 한국콜마',\n",
       " '시민단체 \"화장품 용기 5개 중 4개는 재활용 불가…재질 개선해야”',\n",
       " '폐플라스틱의 변신…화장품병 · 신용카드로 재탄생',\n",
       " \"[업계만화경] 화장품업계는 '예쁜 쓰레기' 오명벗기 경쟁중\",\n",
       " '화장품 유통기한 박스에도 표시될까?...소비자는 속타는데 개정안 국회서 쿨쿨',\n",
       " \"[기자수첩]화장품법 개정안에 '소비자'는 없었다\",\n",
       " \"'화장품 용기도 다양하네'\",\n",
       " '허블룸 \"유기농 비건 화장품은 환경·동물·나를 위한 옳은 선택\"',\n",
       " '한화솔루션, \"제약 및 화장품 용기 등으로 친환경 소재 사업 확대 할 것\"',\n",
       " '뷰티업계 호황이라는데…화장품용기株 뜰까?',\n",
       " '착한기업 톤28, 화장품이 종이에 담긴다?',\n",
       " \"'화장품을 어떤 용기에 담을까'\",\n",
       " '시암, 제3세대 화장품 용기로 K-뷰티 선도한다.',\n",
       " 'SK케미칼, 폐플라스틱 재활용 ‘친환경 화장품 포장 재료’ 공급',\n",
       " '[뉴스투데이 E] 락앤락, 화장품 용기 재사용 장려… 스킨케어 브랜드 파파레서피와 이색 컬래버',\n",
       " '다양한 화장품 용기',\n",
       " '“화장품 용기 재활용 대책 마련하라”',\n",
       " '연우 목표주가 높아져, “럭셔리 화장품용기 수요 가파르게 늘어\"',\n",
       " '식품·화장품 시·청각장애인 접근권 보장 추진',\n",
       " \"'탈 플라스틱' 나선 화장품업계, 친환경경영 속도\",\n",
       " '<신제품ㆍ신기술>락앤락-파파레서피, 화장품 용기 리필 컬래버레이션',\n",
       " '다양한 화장품 용기',\n",
       " '“화장품 용기 재활용 대책 마련하라”',\n",
       " '연우 목표주가 높아져, “럭셔리 화장품용기 수요 가파르게 늘어\"',\n",
       " '식품·화장품 시·청각장애인 접근권 보장 추진',\n",
       " \"'탈 플라스틱' 나선 화장품업계, 친환경경영 속도\",\n",
       " '친환경 유아화장품 타가 베이비, UN SDGs협회 글로벌 지속가능 기업 100 선정',\n",
       " \"한국콜마-HDC현대EP, 친환경 화장품 용기소재 개발 '맞손'\",\n",
       " '\"\\'E\\'를 위한 이상적 시스템은…\"',\n",
       " \"화장품 포장용기 업체 '동기PNI', 안양대 발전기금 2000만 원 기부\",\n",
       " '친환경 유아화장품 타가 베이비, UN SDGs협회 글로벌 지속가능 기업 100 선정',\n",
       " \"한국콜마-HDC현대EP, 친환경 화장품 용기소재 개발 '맞손'\",\n",
       " '\"\\'E\\'를 위한 이상적 시스템은…\"',\n",
       " \"화장품 포장용기 업체 '동기PNI', 안양대 발전기금 2000만 원 기부\",\n",
       " '단독주택 투명페트병 분리 배출 의무화 D-93',\n",
       " '한국콜마-HDC현대EP, 친환경 화장품 용기 소재 만든다',\n",
       " 'EPS, 고기능성 내열 PLA 소재 화장품 용기 개발',\n",
       " 'ESG 경영 가속에 친환경 포장소재 수요 폭증',\n",
       " '안양대, 화장품 포장용기 전문제조 업체 동기PNI로부터 발전기금 2,000만원 받아',\n",
       " '한국콜마, HDC현대EP 손잡고 친환경 화장품 용기소재 개발',\n",
       " '한국콜마, HDC현대EP 손잡고 친환경 화장품 용기소재 개발',\n",
       " 'EPS, \"고기능성 내열 PLA 소재 화장품 용기 개발\" 밝혀',\n",
       " \"[친절한 IP] 화장품 업계에서 주로 출원되는 '특허'는?\",\n",
       " 'EPS, 생분해 가능한 ‘고기능성 내열 PLA 화장품 용기’ 개발 성공',\n",
       " 'EPS, ‘고기능성 내열 PLA 화장품 용기’ 개발 성공',\n",
       " '단독주택도 투명페트병 별도 배출 의무화',\n",
       " \"에코패키지솔루션\\xa0'고기능성\\xa0내열 PLA 화장품\\xa0용기'\\xa0개발\\xa0\",\n",
       " '계열사마다 ‘최고환경책임자’ 신설… 기후변화 대응·바이오 사업 개편',\n",
       " 'EPS, 생분해 가능한 ‘고기능성 내열 PLA 화장품 용기’ 개발 성공',\n",
       " '화장품 포장재 얼마나 달라질 수 있을까?',\n",
       " '한국콜마, 현대EP와 친환경 화장품 용기소재 개발 협력',\n",
       " '고기능성 내열 PLA 화장품용기 개발',\n",
       " \"[친절한 IP] 화장품 업계에서 주로 출원되는 '특허'는?\",\n",
       " 'EPS, 생분해 가능한 ‘고기능성 내열 PLA 화장품 용기’ 개발 성공',\n",
       " 'EPS, ‘고기능성 내열 PLA 화장품 용기’ 개발 성공',\n",
       " '단독주택도 투명페트병 별도 배출 의무화',\n",
       " \"에코패키지솔루션\\xa0'고기능성\\xa0내열 PLA 화장품\\xa0용기'\\xa0개발\\xa0\",\n",
       " '계열사마다 ‘최고환경책임자’ 신설… 기후변화 대응·바이오 사업 개편',\n",
       " 'EPS, 생분해 가능한 ‘고기능성 내열 PLA 화장품 용기’ 개발 성공',\n",
       " '화장품 포장재 얼마나 달라질 수 있을까?',\n",
       " '한국콜마-HDC현대EP, 친환경 화장품 용기소재 개발 협약',\n",
       " '고기능성 내열 PLA 화장품용기 개발',\n",
       " \"[친절한 IP] 화장품 업계에서 주로 출원되는 '특허'는?\",\n",
       " 'EPS, 생분해 가능한 ‘고기능성 내열 PLA 화장품 용기’ 개발 성공',\n",
       " 'EPS, ‘고기능성 내열 PLA 화장품 용기’ 개발 성공',\n",
       " '단독주택도 투명페트병 별도 배출 의무화',\n",
       " \"에코패키지솔루션\\xa0'고기능성\\xa0내열 PLA 화장품\\xa0용기'\\xa0개발\\xa0\",\n",
       " '계열사마다 ‘최고환경책임자’ 신설… 기후변화 대응·바이오 사업 개편',\n",
       " 'EPS, 생분해 가능한 ‘고기능성 내열 PLA 화장품 용기’ 개발 성공',\n",
       " '화장품 포장재 얼마나 달라질 수 있을까?',\n",
       " '한국콜마-HDC현대EP, 친환경 화장품 용기소재 개발 맞손',\n",
       " '고기능성 내열 PLA 화장품용기 개발',\n",
       " \"[친절한 IP] 화장품 업계에서 주로 출원되는 '특허'는?\",\n",
       " 'EPS, 생분해 가능한 ‘고기능성 내열 PLA 화장품 용기’ 개발 성공',\n",
       " 'EPS, ‘고기능성 내열 PLA 화장품 용기’ 개발 성공',\n",
       " '단독주택도 투명페트병 별도 배출 의무화',\n",
       " \"에코패키지솔루션\\xa0'고기능성\\xa0내열 PLA 화장품\\xa0용기'\\xa0개발\\xa0\",\n",
       " '계열사마다 ‘최고환경책임자’ 신설… 기후변화 대응·바이오 사업 개편',\n",
       " 'EPS, 생분해 가능한 ‘고기능성 내열 PLA 화장품 용기’ 개발 성공',\n",
       " '화장품 포장재 얼마나 달라질 수 있을까?',\n",
       " \"[친절한 IP] 화장품 업계에서 주로 출원되는 '특허'는?\",\n",
       " 'EPS, 생분해 가능한 ‘고기능성 내열 PLA 화장품 용기’ 개발 성공',\n",
       " 'EPS, ‘고기능성 내열 PLA 화장품 용기’ 개발 성공',\n",
       " '단독주택도 투명페트병 별도 배출 의무화',\n",
       " \"에코패키지솔루션\\xa0'고기능성\\xa0내열 PLA 화장품\\xa0용기'\\xa0개발\\xa0\",\n",
       " '계열사마다 ‘최고환경책임자’ 신설… 기후변화 대응·바이오 사업 개편',\n",
       " 'EPS, 생분해 가능한 ‘고기능성 내열 PLA 화장품 용기’ 개발 성공',\n",
       " '화장품 포장재 얼마나 달라질 수 있을까?',\n",
       " '‘예쁜 쓰레기’ 화장품 용기… 64% 재활용 안 돼 포장재 바꿔야',\n",
       " '‘종이튜브’ ‘요일별 영양제’…한국콜마, 화장품 용기도 K뷰티~',\n",
       " \"EPS, 생분해 가능한 '고기능성 내열 PLA 화장품 용기' 개발 성공\",\n",
       " '화장품 포장재 얼마나 달라질 수 있을까?',\n",
       " '‘예쁜 쓰레기’ 화장품 용기… 64% 재활용 안 돼 포장재 바꿔야',\n",
       " '‘종이튜브’ ‘요일별 영양제’…한국콜마, 화장품 용기도 K뷰티~',\n",
       " '화장품법 개정, 펀슈머 제품 판매금지',\n",
       " '[지구용]화장품 용기, 애초에 재활용 쉽게 만들면 안 되나요',\n",
       " \"주식회사 국일 '국일글라스' 화장품용기, 유럽 전역에서 두각\",\n",
       " \"[더벨]'130억 확보' 코디, 색조 화장품 ODM 경쟁력 강화\",\n",
       " '[Q&A] 배달용기 그냥 버리나요? 씻어주세요',\n",
       " \"'화장품 제조원 표기 삭제' 반발 확산\"]"
      ]
     },
     "execution_count": 22,
     "metadata": {},
     "output_type": "execute_result"
    }
   ],
   "source": [
    "title_list"
   ]
  },
  {
   "cell_type": "markdown",
   "metadata": {},
   "source": [
    "## 3.명사단어 추출"
   ]
  },
  {
   "cell_type": "code",
   "execution_count": 23,
   "metadata": {
    "scrolled": true
   },
   "outputs": [],
   "source": [
    "# 세종사전 실행\n",
    "twitter = Twitter()"
   ]
  },
  {
   "cell_type": "code",
   "execution_count": 24,
   "metadata": {},
   "outputs": [],
   "source": [
    "# 단어 리스트 만들기\n",
    "word_list = title_list.copy()"
   ]
  },
  {
   "cell_type": "code",
   "execution_count": 25,
   "metadata": {},
   "outputs": [],
   "source": [
    "# morph = twitter.pos(word_list[0]) # 문장별 단어로 분해하고, 단어별 형태소 정의\n",
    "# print(morph)"
   ]
  },
  {
   "cell_type": "code",
   "execution_count": 26,
   "metadata": {},
   "outputs": [
    {
     "name": "stdout",
     "output_type": "stream",
     "text": [
      "첫문장 형태소개수=12, 문장갯수=300\n"
     ]
    }
   ],
   "source": [
    "# 형태소 분리 (KoNLpy 의 parser 이용)\n",
    "sentences_tag = []\n",
    "\n",
    "for sentence in word_list:\n",
    "    morph = twitter.pos(sentence) # 문장별 단어로 분해하고, 단어별 형태소 정의\n",
    "    sentences_tag.append(morph)\n",
    "print(f\"첫문장 형태소개수={len(sentences_tag[0])}, 문장갯수={len(sentences_tag)}\")"
   ]
  },
  {
   "cell_type": "code",
   "execution_count": 27,
   "metadata": {},
   "outputs": [
    {
     "name": "stdout",
     "output_type": "stream",
     "text": [
      "추출된 명사 갯수 : 2399\n"
     ]
    }
   ],
   "source": [
    "# 명사만 추출\n",
    "noun_list = []\n",
    "tags = []\n",
    "for sentence in sentences_tag:\n",
    "    for word, tag in sentence:\n",
    "        if tag in ['Noun']: # 명사만 추출\n",
    "            noun_list.append(word)\n",
    "print(f\"추출된 명사 갯수 : {len(noun_list)}\")"
   ]
  },
  {
   "cell_type": "code",
   "execution_count": 28,
   "metadata": {},
   "outputs": [],
   "source": [
    "# noun_list = [n for n in noun_list if len(n) == 1]\n",
    "# print(noun_list)"
   ]
  },
  {
   "cell_type": "code",
   "execution_count": 29,
   "metadata": {},
   "outputs": [
    {
     "data": {
      "text/plain": [
       "2178"
      ]
     },
     "execution_count": 29,
     "metadata": {},
     "output_type": "execute_result"
    }
   ],
   "source": [
    "# 두 음절 이상만 추출\n",
    "noun_list = [n for n in noun_list if len(n) > 1]\n",
    "len(noun_list)"
   ]
  },
  {
   "cell_type": "code",
   "execution_count": 30,
   "metadata": {},
   "outputs": [
    {
     "data": {
      "text/plain": [
       "[('화장품', 267),\n",
       " ('용기', 180),\n",
       " ('친환경', 56),\n",
       " ('개발', 49),\n",
       " ('재활용', 41),\n",
       " ('기능', 29),\n",
       " ('업계', 28),\n",
       " ('내열', 26),\n",
       " ('케미칼', 23),\n",
       " ('플라스틱', 20),\n",
       " ('리필', 19),\n",
       " ('뷰티', 18),\n",
       " ('코리아', 18),\n",
       " ('소재', 18),\n",
       " ('환경', 17),\n",
       " ('표시', 17),\n",
       " ('성공', 17),\n",
       " ('샴푸', 16),\n",
       " ('한국', 14),\n",
       " ('페트병', 14),\n",
       " ('바이오', 13),\n",
       " ('코스', 12),\n",
       " ('분해', 12),\n",
       " ('콜마', 12),\n",
       " ('쓰레기', 11),\n",
       " ('사업', 11),\n",
       " ('포장', 11),\n",
       " ('포장재', 11),\n",
       " ('브랜드', 10),\n",
       " ('메카', 10)]"
      ]
     },
     "execution_count": 30,
     "metadata": {},
     "output_type": "execute_result"
    }
   ],
   "source": [
    "# 단어이 빈도수 계산 (Python의 collections 모듈의 Counter 클래스 이둉)\n",
    "counts = Counter(noun_list)\n",
    "tags = counts.most_common(30)\n",
    "tags"
   ]
  },
  {
   "cell_type": "markdown",
   "metadata": {},
   "source": [
    "## 4.WordCloud 생성"
   ]
  },
  {
   "cell_type": "code",
   "execution_count": 31,
   "metadata": {},
   "outputs": [
    {
     "data": {
      "image/png": "[encoded data removed]",
      "text/plain": [
       "<Figure size 720x576 with 1 Axes>"
      ]
     },
     "metadata": {
      "needs_background": "light"
     },
     "output_type": "display_data"
    }
   ],
   "source": [
    "wordcloud = WordCloud(font_path='C:/Windows/Fonts/malgun.ttf',\n",
    "                        background_color = 'white',\n",
    "                        width = 1280,\n",
    "                        height = 720)\n",
    "\n",
    "cloud = wordcloud.generate_from_frequencies(dict(tags))\n",
    "plt.figure(figsize=(10,8))\n",
    "plt.axis('off')\n",
    "plt.imshow(cloud)\n",
    "plt.show()"
   ]
  }
 ],
 "metadata": {
  "kernelspec": {
   "display_name": "Python 3",
   "language": "python",
   "name": "python3"
  },
  "language_info": {
   "codemirror_mode": {
    "name": "ipython",
    "version": 3
   },
   "file_extension": ".py",
   "mimetype": "text/x-python",
   "name": "python",
   "nbconvert_exporter": "python",
   "pygments_lexer": "ipython3",
   "version": "3.8.8"
  }
 },
 "nbformat": 4,
 "nbformat_minor": 4
}
